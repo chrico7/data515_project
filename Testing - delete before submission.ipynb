{
 "cells": [
  {
   "cell_type": "code",
   "execution_count": 2,
   "metadata": {},
   "outputs": [
    {
     "name": "stderr",
     "output_type": "stream",
     "text": [
      "/home/richard/miniconda3/envs/env515a/lib/python3.8/site-packages/IPython/core/interactiveshell.py:3254: DtypeWarning: Columns (113,128,129) have mixed types.Specify dtype option on import or set low_memory=False.\n",
      "  if (await self.run_code(code, result,  async_=asy)):\n",
      "/home/richard/miniconda3/envs/env515a/lib/python3.8/site-packages/geopandas/tools/sjoin.py:58: UserWarning: CRS of frames being joined does not match!({'init': 'epsg:4326'} != None)\n",
      "  warn(\n",
      "/home/richard/miniconda3/envs/env515a/lib/python3.8/site-packages/IPython/core/interactiveshell.py:3254: DtypeWarning: Columns (113,128,129) have mixed types.Specify dtype option on import or set low_memory=False.\n",
      "  if (await self.run_code(code, result,  async_=asy)):\n"
     ]
    }
   ],
   "source": [
    "#from data515_project.kc_real_estate import get_user_input\n",
    "from data515_project.kc_real_estate import get_county_data\n",
    "from data515_project.kc_real_estate import get_redfin_data\n",
    "from data515_project.kc_real_estate import organize_county_data\n",
    "from data515_project.kc_real_estate import join_county_redfin\n",
    "from data515_project.kc_real_estate import aggregate_by_zip_spacial\n",
    "from data515_project.kc_real_estate import zipcode_choro\n",
    "from data515_project.kc_real_estate import aggregate_by_date\n",
    "from data515_project.kc_real_estate import trend_plot"
   ]
  },
  {
   "cell_type": "code",
   "execution_count": 4,
   "metadata": {},
   "outputs": [
    {
     "ename": "ValueError",
     "evalue": "The input dataframe has fewer than two zipcodes - please expand the dataframe to produce a meaningful map.",
     "output_type": "error",
     "traceback": [
      "\u001b[0;31m---------------------------------------------------------------------------\u001b[0m",
      "\u001b[0;31mValueError\u001b[0m                                Traceback (most recent call last)",
      "\u001b[0;32m<ipython-input-4-21bb79fa83bb>\u001b[0m in \u001b[0;36m<module>\u001b[0;34m\u001b[0m\n\u001b[0;32m----> 1\u001b[0;31m \u001b[0mzipcode_choro\u001b[0m\u001b[0;34m(\u001b[0m\u001b[0;34m)\u001b[0m\u001b[0;34m\u001b[0m\u001b[0;34m\u001b[0m\u001b[0m\n\u001b[0m",
      "\u001b[0;32m~/data515_project/data515_project/kc_real_estate.py\u001b[0m in \u001b[0;36mzipcode_choro\u001b[0;34m(opening_data, mapping_var)\u001b[0m\n\u001b[1;32m    684\u001b[0m     \u001b[0;31m# check that at least two zipcodes to map within input_dataframe\u001b[0m\u001b[0;34m\u001b[0m\u001b[0;34m\u001b[0m\u001b[0;34m\u001b[0m\u001b[0m\n\u001b[1;32m    685\u001b[0m     \u001b[0;32mif\u001b[0m \u001b[0mlen\u001b[0m\u001b[0;34m(\u001b[0m\u001b[0mnp\u001b[0m\u001b[0;34m.\u001b[0m\u001b[0munique\u001b[0m\u001b[0;34m(\u001b[0m\u001b[0mopening_data\u001b[0m\u001b[0;34m[\u001b[0m\u001b[0;34m'ZIP'\u001b[0m\u001b[0;34m]\u001b[0m\u001b[0;34m)\u001b[0m\u001b[0;34m)\u001b[0m \u001b[0;34m<\u001b[0m \u001b[0;36m2\u001b[0m\u001b[0;34m:\u001b[0m\u001b[0;34m\u001b[0m\u001b[0;34m\u001b[0m\u001b[0m\n\u001b[0;32m--> 686\u001b[0;31m         raise ValueError('The input dataframe has fewer than two zipcodes - please'+\n\u001b[0m\u001b[1;32m    687\u001b[0m                          ' expand the dataframe to produce a meaningful map.')\n\u001b[1;32m    688\u001b[0m \u001b[0;34m\u001b[0m\u001b[0m\n",
      "\u001b[0;31mValueError\u001b[0m: The input dataframe has fewer than two zipcodes - please expand the dataframe to produce a meaningful map."
     ]
    }
   ],
   "source": [
    "zipcode_choro()"
   ]
  },
  {
   "cell_type": "code",
   "execution_count": null,
   "metadata": {},
   "outputs": [],
   "source": []
  }
 ],
 "metadata": {
  "kernelspec": {
   "display_name": "Python 3",
   "language": "python",
   "name": "python3"
  },
  "language_info": {
   "codemirror_mode": {
    "name": "ipython",
    "version": 3
   },
   "file_extension": ".py",
   "mimetype": "text/x-python",
   "name": "python",
   "nbconvert_exporter": "python",
   "pygments_lexer": "ipython3",
   "version": "3.8.2"
  }
 },
 "nbformat": 4,
 "nbformat_minor": 4
}
