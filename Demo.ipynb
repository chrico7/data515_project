{
 "cells": [
  {
   "cell_type": "code",
   "execution_count": null,
   "metadata": {
    "scrolled": true
   },
   "outputs": [],
   "source": [
    "import data515_project.run as kc"
   ]
  },
  {
   "cell_type": "markdown",
   "metadata": {},
   "source": [
    "## Explore Redfin King County Data\n",
    "\n",
    "To visualize Redfin MLS data for King County run <code>kc.view_redfin_data_by_agg(kc.df_redfin, 'SQUARE FEET')</code> in the cell below. Feel free to swap the <code>'SQUARE FEET'</code> parameter with <code>'PRICE'</code>, <code>'LOT SIZE'</code>, or <code>'DAYS ON MARKET'</code> to investigate MLS data by zip code."
   ]
  },
  {
   "cell_type": "code",
   "execution_count": null,
   "metadata": {
    "scrolled": true
   },
   "outputs": [],
   "source": [
    "kc.view_redfin_data_by_agg(kc.df_redfin, 'SQUARE FEET')"
   ]
  },
  {
   "cell_type": "markdown",
   "metadata": {},
   "source": [
    "## Query\n",
    "\n",
    "Run the cell below and follow the prompts to filter the data down to specific zip code and time frame. Depending on the number of zip codes and the range of dates entered, the query can take several minutes. You will be prompted to use default values or custom values. The default values have are a date range from 1/1/2018 - 12/31/2019 and zip codes: 98122, 98144, 98103, 98039. If using custom values, please enter 3+ zip codes for best results."
   ]
  },
  {
   "cell_type": "code",
   "execution_count": null,
   "metadata": {
    "scrolled": false
   },
   "outputs": [],
   "source": [
    "all_data = kc.lets_begin()"
   ]
  },
  {
   "cell_type": "markdown",
   "metadata": {},
   "source": [
    "## Aggregations\n",
    "\n",
    "Run the code block below to calculate and view some aggregations by zip code."
   ]
  },
  {
   "cell_type": "code",
   "execution_count": null,
   "metadata": {},
   "outputs": [],
   "source": [
    "agg_by_zip = kc.aggregate_by_zip_spacial(all_data)\n",
    "agg_by_zip"
   ]
  },
  {
   "cell_type": "markdown",
   "metadata": {},
   "source": [
    "## Visualize Aggregations\n",
    "\n",
    "To visualize the aggregations, run <code>kc.zip_code_agg_plotly(agg_by_zip, 'Mean sale price')</code> in the cell below. Feel free to swap the <code>'Mean sale price'</code> parameter with <code>'Mean days on market'</code>, <code>'Mean size (square feet)'</code>, or <code>'Mean cost per sqft'</code> to investigate."
   ]
  },
  {
   "cell_type": "code",
   "execution_count": null,
   "metadata": {},
   "outputs": [],
   "source": [
    "kc.zip_code_agg_plotly(agg_by_zip, 'Mean sale price')"
   ]
  },
  {
   "cell_type": "markdown",
   "metadata": {},
   "source": [
    "## Time Series\n",
    "\n",
    "Lets look at a Time Series plot of changes Mean Sale Price during our time frame of interest. Run <code>kc.plotly_by_date(all_data, zip_flag='Yes')</code> to create the visual. To not break the visual down by Zip Code, then run <code>kc.plotly_by_date(all_data)</code> without the zip_flag."
   ]
  },
  {
   "cell_type": "code",
   "execution_count": null,
   "metadata": {},
   "outputs": [],
   "source": [
    "kc.plotly_by_date(all_data, zip_flag='Yes')"
   ]
  },
  {
   "cell_type": "code",
   "execution_count": null,
   "metadata": {},
   "outputs": [],
   "source": []
  }
 ],
 "metadata": {
  "kernelspec": {
   "display_name": "Python 3",
   "language": "python",
   "name": "python3"
  },
  "language_info": {
   "codemirror_mode": {
    "name": "ipython",
    "version": 3
   },
   "file_extension": ".py",
   "mimetype": "text/x-python",
   "name": "python",
   "nbconvert_exporter": "python",
   "pygments_lexer": "ipython3",
   "version": "3.8.2"
  }
 },
 "nbformat": 4,
 "nbformat_minor": 4
}
