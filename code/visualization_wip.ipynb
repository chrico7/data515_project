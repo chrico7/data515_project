{
 "cells": [
  {
   "cell_type": "markdown",
   "metadata": {},
   "source": [
    "# Visualization work in progress"
   ]
  },
  {
   "cell_type": "code",
   "execution_count": null,
   "metadata": {},
   "outputs": [],
   "source": [
    "#%matplotlib notebook\n",
    "import sys\n",
    "import os\n",
    "import datetime\n",
    "import numpy as np\n",
    "import pandas as pd\n",
    "import geopandas as gpd\n",
    "import matplotlib.pyplot as plt\n",
    "from ipywidgets import *\n",
    "\n",
    "%matplotlib notebook\n",
    "\n",
    "project_path = os.path.abspath(os.path.join('..'))"
   ]
  },
  {
   "cell_type": "markdown",
   "metadata": {},
   "source": [
    "## Rough Plan"
   ]
  },
  {
   "cell_type": "code",
   "execution_count": null,
   "metadata": {},
   "outputs": [],
   "source": [
    "#three stage\n",
    "#pick neighbirhood\n",
    "\n",
    "#trend line\n",
    "#heat map"
   ]
  },
  {
   "cell_type": "markdown",
   "metadata": {},
   "source": [
    "## Issues / to-do"
   ]
  },
  {
   "cell_type": "markdown",
   "metadata": {},
   "source": [
    "Base dfs, not merged\n",
    "No geo location in KC\n",
    "No date in redfin\n",
    "Choose function or interactive\n",
    "Choose whether to split out aggretation functions"
   ]
  },
  {
   "cell_type": "markdown",
   "metadata": {},
   "source": [
    "## Load and prep data for the dummy examples"
   ]
  },
  {
   "cell_type": "code",
   "execution_count": 61,
   "metadata": {},
   "outputs": [
    {
     "name": "stderr",
     "output_type": "stream",
     "text": [
      "/home/richard/miniconda3/envs/env515a/lib/python3.8/site-packages/IPython/core/interactiveshell.py:3062: DtypeWarning: Columns (34,100,112,114,129) have mixed types.Specify dtype option on import or set low_memory=False.\n",
      "  has_raised = await self.run_ast_nodes(code_ast.body, cell_name,\n"
     ]
    },
    {
     "data": {
      "text/html": [
       "<div>\n",
       "<style scoped>\n",
       "    .dataframe tbody tr th:only-of-type {\n",
       "        vertical-align: middle;\n",
       "    }\n",
       "\n",
       "    .dataframe tbody tr th {\n",
       "        vertical-align: top;\n",
       "    }\n",
       "\n",
       "    .dataframe thead th {\n",
       "        text-align: right;\n",
       "    }\n",
       "</style>\n",
       "<table border=\"1\" class=\"dataframe\">\n",
       "  <thead>\n",
       "    <tr style=\"text-align: right;\">\n",
       "      <th></th>\n",
       "      <th>OBJECTID</th>\n",
       "      <th>ZIP</th>\n",
       "      <th>ZIPCODE</th>\n",
       "      <th>COUNTY</th>\n",
       "      <th>ZIP_TYPE</th>\n",
       "      <th>Shape_Length</th>\n",
       "      <th>Shape_Area</th>\n",
       "      <th>geometry</th>\n",
       "    </tr>\n",
       "  </thead>\n",
       "  <tbody>\n",
       "    <tr>\n",
       "      <th>0</th>\n",
       "      <td>1</td>\n",
       "      <td>98031</td>\n",
       "      <td>98031</td>\n",
       "      <td>033</td>\n",
       "      <td>Standard</td>\n",
       "      <td>117508.231410</td>\n",
       "      <td>2.280129e+08</td>\n",
       "      <td>POLYGON ((-122.21842 47.43750, -122.21896 47.4...</td>\n",
       "    </tr>\n",
       "    <tr>\n",
       "      <th>1</th>\n",
       "      <td>2</td>\n",
       "      <td>98032</td>\n",
       "      <td>98032</td>\n",
       "      <td>033</td>\n",
       "      <td>Standard</td>\n",
       "      <td>166737.665152</td>\n",
       "      <td>4.826754e+08</td>\n",
       "      <td>MULTIPOLYGON (((-122.24187 47.44122, -122.2436...</td>\n",
       "    </tr>\n",
       "    <tr>\n",
       "      <th>2</th>\n",
       "      <td>3</td>\n",
       "      <td>98033</td>\n",
       "      <td>98033</td>\n",
       "      <td>033</td>\n",
       "      <td>Standard</td>\n",
       "      <td>101363.832386</td>\n",
       "      <td>2.566747e+08</td>\n",
       "      <td>POLYGON ((-122.20571 47.65170, -122.20571 47.6...</td>\n",
       "    </tr>\n",
       "    <tr>\n",
       "      <th>3</th>\n",
       "      <td>4</td>\n",
       "      <td>98034</td>\n",
       "      <td>98034</td>\n",
       "      <td>033</td>\n",
       "      <td>Standard</td>\n",
       "      <td>98550.460072</td>\n",
       "      <td>2.725072e+08</td>\n",
       "      <td>POLYGON ((-122.17551 47.73706, -122.17551 47.7...</td>\n",
       "    </tr>\n",
       "    <tr>\n",
       "      <th>4</th>\n",
       "      <td>5</td>\n",
       "      <td>98030</td>\n",
       "      <td>98030</td>\n",
       "      <td>033</td>\n",
       "      <td>Standard</td>\n",
       "      <td>94351.274949</td>\n",
       "      <td>2.000954e+08</td>\n",
       "      <td>POLYGON ((-122.16746 47.38549, -122.16746 47.3...</td>\n",
       "    </tr>\n",
       "  </tbody>\n",
       "</table>\n",
       "</div>"
      ],
      "text/plain": [
       "   OBJECTID    ZIP ZIPCODE COUNTY  ZIP_TYPE   Shape_Length    Shape_Area  \\\n",
       "0         1  98031   98031    033  Standard  117508.231410  2.280129e+08   \n",
       "1         2  98032   98032    033  Standard  166737.665152  4.826754e+08   \n",
       "2         3  98033   98033    033  Standard  101363.832386  2.566747e+08   \n",
       "3         4  98034   98034    033  Standard   98550.460072  2.725072e+08   \n",
       "4         5  98030   98030    033  Standard   94351.274949  2.000954e+08   \n",
       "\n",
       "                                            geometry  \n",
       "0  POLYGON ((-122.21842 47.43750, -122.21896 47.4...  \n",
       "1  MULTIPOLYGON (((-122.24187 47.44122, -122.2436...  \n",
       "2  POLYGON ((-122.20571 47.65170, -122.20571 47.6...  \n",
       "3  POLYGON ((-122.17551 47.73706, -122.17551 47.7...  \n",
       "4  POLYGON ((-122.16746 47.38549, -122.16746 47.3...  "
      ]
     },
     "execution_count": 61,
     "metadata": {},
     "output_type": "execute_result"
    }
   ],
   "source": [
    "#read redfin data\n",
    "redfin_df = pd.read_csv(project_path+ \"/data/redfin/All_King_Redfin.csv\")\n",
    "\n",
    "#convert to geodatafrmae for easy merging\n",
    "gdf = gpd.GeoDataFrame(redfin_df, geometry=gpd.points_from_xy(df.LONGITUDE, df.LATITUDE))\n",
    "\n",
    "#read kc data\n",
    "kc_df = pd.read_csv(project_path+ \"/data/kc/sample_kc_data.csv\")\n",
    "\n",
    "#convert kc date column to dates\n",
    "kc_df['Document Date']= kc_df['Document Date'].astype('datetime64[ns]')\n",
    "\n",
    "#pull in zip shapefiles\n",
    "df_zip_shape = gpd.read_file(\"https://opendata.arcgis.com/datasets/06da0f67fc1948e3aae93063750ad02b_790.geojson\")\n",
    "\n",
    "#cut down zip file to geometry only to make easier to handle\n",
    "df_n_c_small = df_zip_shape[['ZIP', 'geometry']]\n"
   ]
  },
  {
   "cell_type": "markdown",
   "metadata": {},
   "source": [
    "## Aggregate data for joining - "
   ]
  },
  {
   "cell_type": "code",
   "execution_count": 147,
   "metadata": {},
   "outputs": [
    {
     "name": "stderr",
     "output_type": "stream",
     "text": [
      "/home/richard/miniconda3/envs/env515a/lib/python3.8/site-packages/geopandas/tools/sjoin.py:58: UserWarning: CRS of frames being joined does not match!({'init': 'epsg:4326'} != None)\n",
      "  warn(\n"
     ]
    }
   ],
   "source": [
    "#aggregate meaningful redfin variables\n",
    "zip_aggs = gpd.sjoin(df_n_c_small, gdf).groupby(\"ZIP\").agg({'PRICE':'mean', 'DAYS ON MARKET':'mean', \n",
    "                                                                        'SQUARE FEET':'mean'})\n",
    "\n",
    "#merge aggregated redfin with with zip dataframe\n",
    "merged = df_n_c_small.merge(zip_aggs, on='ZIP')"
   ]
  },
  {
   "cell_type": "code",
   "execution_count": 94,
   "metadata": {},
   "outputs": [],
   "source": [
    "#aggregate KC  by dateZIP IS NOT IN YET\n",
    "kc_aggregate = kc_df.groupby([\"Document Date\"]).agg({'Sale Price':'mean',\n",
    "                          'Excise Tax Number':'nunique'})\n",
    "#remove any miscodes (some dates in 2070)\n",
    "kc_aggregate = kc_aggregate[kc_aggregate.index < datetime.datetime.now()]"
   ]
  },
  {
   "cell_type": "markdown",
   "metadata": {},
   "source": [
    "## Plotting!"
   ]
  },
  {
   "cell_type": "code",
   "execution_count": 145,
   "metadata": {},
   "outputs": [],
   "source": [
    "#define opening map as a function in case want to split apart\n",
    "def opening_plot(opening_data = merged, mapping_var='PRICE'):\n",
    "    f, ax = plt.subplots(1)\n",
    "    opening_data.plot(column=mapping_var,ax=ax, linewidth=0.5, edgecolor='0.5', legend=True)\n",
    "    ax.set_axis_off()\n",
    "    plt.axis('equal')\n",
    "    plt.savefig(project_path+'/output/example_opening.png');\n",
    "    plt.show()"
   ]
  },
  {
   "cell_type": "code",
   "execution_count": 146,
   "metadata": {},
   "outputs": [
    {
     "data": {
      "image/png": "[encoded data removed]",
      "text/plain": [
       "<Figure size 432x288 with 2 Axes>"
      ]
     },
     "metadata": {
      "needs_background": "light"
     },
     "output_type": "display_data"
    }
   ],
   "source": [
    "#plot with function\n",
    "opening_plot()"
   ]
  },
  {
   "cell_type": "code",
   "execution_count": 149,
   "metadata": {},
   "outputs": [],
   "source": [
    "#define trend plot as a function in case want to split\n",
    "def trend_plot(data=kc_aggregate, trend_variable='Sale Price'):\n",
    "    fig = plt.figure()\n",
    "    ax = plt.axes()\n",
    "    x = data.index\n",
    "    y=data[trend_variable]\n",
    "    ax.plot(x, y)\n",
    "    plt.savefig(project_path+'/output/example_trend.png');"
   ]
  },
  {
   "cell_type": "code",
   "execution_count": 150,
   "metadata": {},
   "outputs": [
    {
     "data": {
      "image/png": "[encoded data removed]",
      "text/plain": [
       "<Figure size 432x288 with 1 Axes>"
      ]
     },
     "metadata": {
      "needs_background": "light"
     },
     "output_type": "display_data"
    }
   ],
   "source": [
    "#plot with function\n",
    "trend_plot()"
   ]
  },
  {
   "cell_type": "code",
   "execution_count": 135,
   "metadata": {},
   "outputs": [
    {
     "data": {
      "application/vnd.jupyter.widget-view+json": {
       "model_id": "2655709184224405bb0742bdd0de57d0",
       "version_major": 2,
       "version_minor": 0
      },
      "text/plain": [
       "interactive(children=(Dropdown(description='y', options=('Sale Price', 'Excise Tax Number'), value='Sale Price…"
      ]
     },
     "metadata": {},
     "output_type": "display_data"
    }
   ],
   "source": [
    "#interactive trend plot - select var of interest\n",
    "\n",
    "def g(y):\n",
    "    plt.plot(kc_aggregate.index, kc_aggregate[y])\n",
    "    plt.show()\n",
    "\n",
    "interactive_plot = interactive(g, y=kc_aggregate.columns)\n",
    "interactive_plot"
   ]
  },
  {
   "cell_type": "markdown",
   "metadata": {},
   "source": [
    "## Snippet of code for date slider - doesnt work yet but could customize trend graph more fully"
   ]
  },
  {
   "cell_type": "code",
   "execution_count": 115,
   "metadata": {},
   "outputs": [
    {
     "data": {
      "application/vnd.jupyter.widget-view+json": {
       "model_id": "8ea696cffd7c40258143183d1456e69a",
       "version_major": 2,
       "version_minor": 0
      },
      "text/plain": [
       "SelectionRangeSlider(description='Dates', index=(0, 30), layout=Layout(width='500px'), options=((' 24 Apr 2018…"
      ]
     },
     "metadata": {},
     "output_type": "display_data"
    }
   ],
   "source": [
    "import ipywidgets as widgets\n",
    "import pandas as pd\n",
    "from datetime import datetime\n",
    "\n",
    "start_date = datetime(2018, 4, 24)\n",
    "end_date = datetime(2018, 5, 24)\n",
    "\n",
    "dates = pd.date_range(start_date, end_date, freq='D')\n",
    "\n",
    "options = [(date.strftime(' %d %b %Y '), date) for date in dates]\n",
    "index = (0, len(options)-1)\n",
    "\n",
    "selection_range_slider = widgets.SelectionRangeSlider(\n",
    "    options=options,\n",
    "    index=index,\n",
    "    description='Dates',\n",
    "    orientation='horizontal',\n",
    "    layout={'width': '500px'}\n",
    ")\n",
    "\n",
    "selection_range_slider"
   ]
  },
  {
   "cell_type": "code",
   "execution_count": 121,
   "metadata": {},
   "outputs": [
    {
     "data": {
      "application/vnd.jupyter.widget-view+json": {
       "model_id": "f01eba7da0d440d1ba17996b21e1b10f",
       "version_major": 2,
       "version_minor": 0
      },
      "text/plain": [
       "interactive(children=(SelectionRangeSlider(description='Dates', index=(0, 30), layout=Layout(width='500px'), o…"
      ]
     },
     "metadata": {},
     "output_type": "display_data"
    }
   ],
   "source": [
    "def print_date_range(date_range):\n",
    "    print(date_range)\n",
    "    \n",
    "\n",
    "widgets.interact(\n",
    "    print_date_range,\n",
    "    date_range=selection_range_slider\n",
    ");\n"
   ]
  }
 ],
 "metadata": {
  "kernelspec": {
   "display_name": "Python 3",
   "language": "python",
   "name": "python3"
  },
  "language_info": {
   "codemirror_mode": {
    "name": "ipython",
    "version": 3
   },
   "file_extension": ".py",
   "mimetype": "text/x-python",
   "name": "python",
   "nbconvert_exporter": "python",
   "pygments_lexer": "ipython3",
   "version": "3.8.2"
  }
 },
 "nbformat": 4,
 "nbformat_minor": 4
}
