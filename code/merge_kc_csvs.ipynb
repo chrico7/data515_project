{
 "cells": [
  {
   "cell_type": "code",
   "execution_count": 2,
   "metadata": {},
   "outputs": [],
   "source": [
    "import pandas as pd\n",
    "import numpy as np"
   ]
  },
  {
   "cell_type": "code",
   "execution_count": 27,
   "metadata": {},
   "outputs": [
    {
     "name": "stderr",
     "output_type": "stream",
     "text": [
      "/Users/ruianyang/anaconda/lib/python3.6/site-packages/IPython/core/interactiveshell.py:3063: DtypeWarning: Columns (1,2) have mixed types.Specify dtype option on import or set low_memory=False.\n",
      "  interactivity=interactivity, compiler=compiler, result=result)\n",
      "/Users/ruianyang/anaconda/lib/python3.6/site-packages/IPython/core/interactiveshell.py:3063: DtypeWarning: Columns (11) have mixed types.Specify dtype option on import or set low_memory=False.\n",
      "  interactivity=interactivity, compiler=compiler, result=result)\n"
     ]
    }
   ],
   "source": [
    "df_sale = pd.read_csv('/Users/ruianyang/Documents/GradSchool/MSDS/DATA515/group_project/Extr_RPSale.csv', \n",
    "                      dtype={'Mayor': str, 'Minor':'str'})\n",
    "df_building = pd.read_csv('/Users/ruianyang/Documents/GradSchool/MSDS/DATA515/group_project/EXTR_ResBldg.csv')\n",
    "df_parcel = pd.read_csv('/Users/ruianyang/Documents/GradSchool/MSDS/DATA515/group_project/EXTR_Parcel.csv',\n",
    "                       encoding = \"ISO-8859-1\")\n",
    "df_lookup = pd.read_csv('/Users/ruianyang/Documents/GradSchool/MSDS/DATA515/group_project/EXTR_LookUp.csv')"
   ]
  },
  {
   "cell_type": "code",
   "execution_count": 28,
   "metadata": {},
   "outputs": [],
   "source": [
    "df_lookup_items = pd.read_csv('/Users/ruianyang/Documents/GradSchool/MSDS/DATA515/group_project/look_up_item.csv')\n",
    "df_col_names = pd.read_csv('/Users/ruianyang/Documents/GradSchool/MSDS/DATA515/group_project/column_names.csv')"
   ]
  },
  {
   "cell_type": "code",
   "execution_count": 29,
   "metadata": {},
   "outputs": [],
   "source": [
    "df_sale.columns = df_col_names[df_col_names['source'] == 'sale'].name.tolist()\n",
    "df_building.columns = df_col_names[df_col_names['source'] == 'building'].name.tolist()\n",
    "df_parcel.columns = df_col_names[df_col_names['source'] == 'parcel'].name.tolist()\n",
    "df_lookup.columns = df_col_names[df_col_names['source'] == 'lookup'].name.tolist()"
   ]
  },
  {
   "cell_type": "code",
   "execution_count": 30,
   "metadata": {},
   "outputs": [],
   "source": [
    "df_lookup['Look Up Description'] = df_lookup['Look Up Description'].str.strip()"
   ]
  },
  {
   "cell_type": "code",
   "execution_count": 34,
   "metadata": {},
   "outputs": [],
   "source": [
    "df_parcel_sf = df_parcel[df_parcel['Property Type'] == 'R']"
   ]
  },
  {
   "cell_type": "code",
   "execution_count": 37,
   "metadata": {},
   "outputs": [],
   "source": [
    "df_parcel_sf = df_parcel_sf.drop(columns=['Property Type'])"
   ]
  },
  {
   "cell_type": "code",
   "execution_count": 66,
   "metadata": {},
   "outputs": [],
   "source": [
    "df_sale_sf = df_sale[df_sale['Property Type'] == 11]"
   ]
  },
  {
   "cell_type": "code",
   "execution_count": 33,
   "metadata": {},
   "outputs": [],
   "source": [
    "df_building_sf = df_building[df_building['Number Living Units'] == 1]"
   ]
  },
  {
   "cell_type": "code",
   "execution_count": 67,
   "metadata": {},
   "outputs": [
    {
     "name": "stderr",
     "output_type": "stream",
     "text": [
      "/Users/ruianyang/anaconda/lib/python3.6/site-packages/ipykernel_launcher.py:1: SettingWithCopyWarning: \n",
      "A value is trying to be set on a copy of a slice from a DataFrame.\n",
      "Try using .loc[row_indexer,col_indexer] = value instead\n",
      "\n",
      "See the caveats in the documentation: https://pandas.pydata.org/pandas-docs/stable/user_guide/indexing.html#returning-a-view-versus-a-copy\n",
      "  \"\"\"Entry point for launching an IPython kernel.\n"
     ]
    }
   ],
   "source": [
    "df_sale_sf['Document Date'] = pd.to_datetime(df_sale_sf['Document Date'])"
   ]
  },
  {
   "cell_type": "code",
   "execution_count": 68,
   "metadata": {},
   "outputs": [],
   "source": [
    "df_sale_sf_recent = df_sale_sf[df_sale_sf['Document Date'] > '2010-01-01']"
   ]
  },
  {
   "cell_type": "code",
   "execution_count": 69,
   "metadata": {},
   "outputs": [],
   "source": [
    "new_df = pd.merge(df_sale_sf_recent, df_building_sf,  how='left', left_on=['Major','Minor'], right_on=['Major','Minor'])\n",
    "df_all = pd.merge(new_df, df_parcel_sf,  how='left', left_on=['Major','Minor'], right_on=['Major','Minor'])"
   ]
  },
  {
   "cell_type": "code",
   "execution_count": 72,
   "metadata": {},
   "outputs": [
    {
     "name": "stdout",
     "output_type": "stream",
     "text": [
      "Property Type\n",
      "Principal Use\n",
      "Sale Instrument\n",
      "Sale Reason\n",
      "Property Class\n",
      "Sale Warning\n"
     ]
    },
    {
     "name": "stderr",
     "output_type": "stream",
     "text": [
      "/Users/ruianyang/anaconda/lib/python3.6/site-packages/pandas/core/ops/array_ops.py:253: FutureWarning: elementwise comparison failed; returning scalar instead, but in the future will perform elementwise comparison\n",
      "  res_values = method(rvalues)\n"
     ]
    },
    {
     "name": "stdout",
     "output_type": "stream",
     "text": [
      "HBU As If Vacant\n",
      "HBU As Improved\n",
      "Present Use\n",
      "Water System\n",
      "Sewer System\n",
      "Access\n",
      "Topography\n",
      "Street Surface\n",
      "Restrictive Size / Shape\n",
      "Inadequate Parking\n",
      "View: Mt Rainier\n",
      "View: Olympics\n",
      "View: Cascades\n",
      "View: Territorial\n",
      "View: Seattle Skyline\n",
      "View: Puget Sound\n",
      "View: Lake Washington\n",
      "View: Lake Sammamish\n",
      "View: Small Lake / River / Creek\n",
      "View: Other View\n",
      "Waterfront Location\n",
      "Waterfront Bank\n",
      "Waterfront Poor Quality\n",
      "Waterfront Restricted Access\n",
      "Tideland / Shoreland\n",
      "Traffic Noise\n",
      "Contamination\n",
      "Common Property\n",
      "Historic Site\n",
      "Current Use Designation\n"
     ]
    }
   ],
   "source": [
    "for col in df_all.columns:\n",
    "    #print(col)\n",
    "    if col in df_lookup_items['Field Name'].tolist():\n",
    "        look_up_type = int(df_lookup_items[df_lookup_items['Field Name'] == col]['Look Up'])\n",
    "        look_up_items = df_lookup[df_lookup['Look Up Type'] == look_up_type]\n",
    "        print(col)\n",
    "        description_list = []\n",
    "        for i in range(len(df_all[col])):\n",
    "            num = df_all[col].iloc[i]\n",
    "            #print(num)\n",
    "            description = look_up_items[look_up_items['Look Up Item'] == num]['Look Up Description']\n",
    "            #print(description.values)\n",
    "            if len(description) == 0:\n",
    "                description_list.append('nan')\n",
    "            else:\n",
    "                description_list.append(description.values[0])\n",
    "                #print(description.values[0])\n",
    "        df_all[col] = description_list\n",
    "                "
   ]
  },
  {
   "cell_type": "code",
   "execution_count": 79,
   "metadata": {},
   "outputs": [],
   "source": [
    "df_all.to_csv('/Users/ruianyang/Documents/GradSchool/MSDS/DATA515/group_project/merged_kc_data.csv')"
   ]
  },
  {
   "cell_type": "code",
   "execution_count": null,
   "metadata": {},
   "outputs": [],
   "source": []
  }
 ],
 "metadata": {
  "kernelspec": {
   "display_name": "Python 3",
   "language": "python",
   "name": "python3"
  },
  "language_info": {
   "codemirror_mode": {
    "name": "ipython",
    "version": 3
   },
   "file_extension": ".py",
   "mimetype": "text/x-python",
   "name": "python",
   "nbconvert_exporter": "python",
   "pygments_lexer": "ipython3",
   "version": "3.6.10"
  }
 },
 "nbformat": 4,
 "nbformat_minor": 4
}
